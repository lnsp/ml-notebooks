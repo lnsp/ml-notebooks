{
 "cells": [
  {
   "cell_type": "markdown",
   "metadata": {},
   "source": [
    "# Train DNN on MNIST 0 to 4"
   ]
  },
  {
   "cell_type": "code",
   "execution_count": 1,
   "metadata": {},
   "outputs": [],
   "source": [
    "import tensorflow as tf\n",
    "import numpy as np"
   ]
  },
  {
   "cell_type": "code",
   "execution_count": 2,
   "metadata": {},
   "outputs": [],
   "source": [
    "n_inputs = 28 * 28\n",
    "n_hidden = 100\n",
    "n_outputs = 5"
   ]
  },
  {
   "cell_type": "code",
   "execution_count": 3,
   "metadata": {},
   "outputs": [],
   "source": [
    "he_init = tf.contrib.layers.variance_scaling_initializer()\n",
    "def dnn(inputs, n_hidden_layers=5, n_neurons=100, name=None,\n",
    "        activation=tf.nn.relu, initializer=he_init):\n",
    "    with tf.variable_scope(name, 'dnn'):\n",
    "        for layer in range(n_hidden_layers):\n",
    "            inputs = tf.layers.dense(inputs, n_neurons, activation=activation,\n",
    "                                     kernel_initializer=initializer, name='hidden%d' % (layer + 1))\n",
    "    return inputs"
   ]
  },
  {
   "cell_type": "code",
   "execution_count": 4,
   "metadata": {},
   "outputs": [],
   "source": [
    "tf.reset_default_graph()\n",
    "\n",
    "X = tf.placeholder(tf.float32, shape=(None, n_inputs), name='X')\n",
    "y = tf.placeholder(tf.int64, shape=(None), name='y')"
   ]
  },
  {
   "cell_type": "code",
   "execution_count": 5,
   "metadata": {},
   "outputs": [],
   "source": [
    "dnn_outputs = dnn(X)\n",
    "logits = tf.layers.dense(dnn_outputs, n_outputs, name='output')"
   ]
  },
  {
   "cell_type": "code",
   "execution_count": 6,
   "metadata": {},
   "outputs": [],
   "source": [
    "y_proba = tf.nn.softmax(logits, name='probability')"
   ]
  },
  {
   "cell_type": "code",
   "execution_count": 7,
   "metadata": {},
   "outputs": [],
   "source": [
    "learning_rate = 0.001\n",
    "cross_entropy = tf.nn.sparse_softmax_cross_entropy_with_logits(labels=y, logits=logits)\n",
    "loss = tf.reduce_mean(cross_entropy, name='loss')"
   ]
  },
  {
   "cell_type": "code",
   "execution_count": 8,
   "metadata": {},
   "outputs": [],
   "source": [
    "optimizer = tf.train.AdamOptimizer(learning_rate)\n",
    "training_op = optimizer.minimize(loss)"
   ]
  },
  {
   "cell_type": "code",
   "execution_count": 9,
   "metadata": {},
   "outputs": [],
   "source": [
    "correct_preds = tf.nn.in_top_k(logits, y, 1)\n",
    "accuracy = tf.reduce_mean(tf.cast(correct_preds, tf.float32), name='accuracy')"
   ]
  },
  {
   "cell_type": "code",
   "execution_count": 10,
   "metadata": {},
   "outputs": [
    {
     "name": "stdout",
     "output_type": "stream",
     "text": [
      "Extracting /tmp/mnist/train-images-idx3-ubyte.gz\n",
      "Extracting /tmp/mnist/train-labels-idx1-ubyte.gz\n",
      "Extracting /tmp/mnist/t10k-images-idx3-ubyte.gz\n",
      "Extracting /tmp/mnist/t10k-labels-idx1-ubyte.gz\n"
     ]
    }
   ],
   "source": [
    "from tensorflow.examples.tutorials.mnist import input_data\n",
    "mnist = input_data.read_data_sets('/tmp/mnist')"
   ]
  },
  {
   "cell_type": "code",
   "execution_count": 11,
   "metadata": {},
   "outputs": [],
   "source": [
    "X_train1 = mnist.train.images[mnist.train.labels < 5]\n",
    "y_train1 = mnist.train.labels[mnist.train.labels < 5]\n",
    "X_valid1 = mnist.validation.images[mnist.validation.labels < 5]\n",
    "y_valid1 = mnist.validation.labels[mnist.validation.labels < 5]\n",
    "X_test1 = mnist.test.images[mnist.test.labels < 5]\n",
    "y_test1 = mnist.test.labels[mnist.test.labels < 5]"
   ]
  },
  {
   "cell_type": "code",
   "execution_count": 12,
   "metadata": {},
   "outputs": [
    {
     "name": "stdout",
     "output_type": "stream",
     "text": [
      "Epoch 0: Accuracy 0.979281\n",
      "Epoch 1: Accuracy 0.989445\n",
      "Epoch 4: Accuracy 0.990618\n",
      "Epoch 7: Accuracy 0.992181\n",
      "Epoch 13: Accuracy 0.992572\n",
      "Epoch 15: Accuracy 0.993354\n",
      "Epoch 18: Accuracy 0.993745\n",
      "Epoch 19: Accuracy 0.995700\n",
      "Stopping early!\n",
      "Best validation accuracy: 0.995700\n",
      "INFO:tensorflow:Restoring parameters from ./deep_mnist_model.ckpt\n",
      "Test accuracy: 0.994162\n"
     ]
    }
   ],
   "source": [
    "n_epochs = 1000\n",
    "batch_size = 50\n",
    "\n",
    "best_score = 0.\n",
    "max_checks_without_progress = 20\n",
    "checks_without_progress = 0\n",
    "\n",
    "init = tf.global_variables_initializer()\n",
    "saver = tf.train.Saver()\n",
    "\n",
    "with tf.Session() as sess:\n",
    "    sess.run(init)\n",
    "    \n",
    "    for epoch in range(n_epochs):\n",
    "        rnd_indices = np.random.permutation(len(X_train1))\n",
    "        for rnd_indices in np.array_split(rnd_indices, len(X_train1) // batch_size):\n",
    "            X_batch, y_batch = X_train1[rnd_indices], y_train1[rnd_indices]\n",
    "            sess.run(training_op, feed_dict={X: X_batch, y: y_batch})\n",
    "        accuracy_score = sess.run(accuracy, feed_dict={X: X_valid1, y: y_valid1})\n",
    "        if accuracy_score > best_score:\n",
    "            print 'Epoch %d: Accuracy %.6f' % (epoch, accuracy_score)\n",
    "            best_score = accuracy_score\n",
    "            checks_without_progress = 0\n",
    "            saver.save(sess, './deep_mnist_model.ckpt')\n",
    "        else:\n",
    "            checks_without_progress += 1\n",
    "            if checks_without_progress > max_checks_without_progress:\n",
    "                print 'Stopping early!'\n",
    "                break\n",
    "    print 'Best validation accuracy: %.6f' % best_score\n",
    "    \n",
    "with tf.Session() as sess:\n",
    "    saver.restore(sess, './deep_mnist_model.ckpt')\n",
    "    accuracy_score = sess.run(accuracy, feed_dict={X: X_test1, y: y_test1})\n",
    "    print 'Test accuracy: %.6f' % accuracy_score"
   ]
  },
  {
   "cell_type": "markdown",
   "metadata": {},
   "source": [
    "# Train DNN on MNIST 5 to 9 by reusing existing model"
   ]
  },
  {
   "cell_type": "code",
   "execution_count": 22,
   "metadata": {},
   "outputs": [],
   "source": [
    "X_train2 = mnist.train.images[mnist.train.labels > 4]\n",
    "y_train2 = mnist.train.labels[mnist.train.labels > 4] - 5\n",
    "X_valid2 = mnist.validation.images[mnist.validation.labels > 4]\n",
    "y_valid2 = mnist.validation.labels[mnist.validation.labels > 4] - 5\n",
    "X_test2 = mnist.test.images[mnist.test.labels > 4]\n",
    "y_test2 = mnist.test.labels[mnist.test.labels > 4] - 5"
   ]
  },
  {
   "cell_type": "code",
   "execution_count": 29,
   "metadata": {},
   "outputs": [
    {
     "name": "stdout",
     "output_type": "stream",
     "text": [
      "INFO:tensorflow:Restoring parameters from ./deep_mnist_model.ckpt\n",
      "Epoch 0: Accuracy 0.675676\n",
      "Epoch 1: Accuracy 0.705160\n",
      "Epoch 2: Accuracy 0.709255\n",
      "Epoch 3: Accuracy 0.711302\n",
      "Epoch 4: Accuracy 0.719492\n",
      "Epoch 5: Accuracy 0.721949\n",
      "Epoch 6: Accuracy 0.725635\n",
      "Epoch 7: Accuracy 0.729730\n",
      "Epoch 8: Accuracy 0.734234\n",
      "Epoch 9: Accuracy 0.737101\n",
      "Epoch 10: Accuracy 0.740786\n",
      "Epoch 11: Accuracy 0.744881\n",
      "Epoch 14: Accuracy 0.748157\n",
      "Epoch 17: Accuracy 0.748567\n",
      "Epoch 18: Accuracy 0.751024\n",
      "Epoch 19: Accuracy 0.758395\n",
      "Epoch 26: Accuracy 0.759623\n",
      "Epoch 27: Accuracy 0.761671\n",
      "Epoch 29: Accuracy 0.762080\n",
      "Epoch 30: Accuracy 0.764947\n",
      "Epoch 33: Accuracy 0.766175\n",
      "Epoch 41: Accuracy 0.767404\n",
      "Epoch 45: Accuracy 0.771089\n",
      "Epoch 54: Accuracy 0.772318\n",
      "Epoch 65: Accuracy 0.775184\n",
      "Stopping early!\n",
      "Best validation accuracy: 0.775184\n"
     ]
    }
   ],
   "source": [
    "train_vars = tf.get_collection(tf.GraphKeys.TRAINABLE_VARIABLES, scope='hidden[12345]|output')\n",
    "init_vars = tf.get_collection(tf.GraphKeys.TRAINABLE_VARIABLES, scope='hidden5|output')\n",
    "training_op = optimizer.minimize(loss, var_list=train_vars)\n",
    "\n",
    "n_epochs = 1000\n",
    "batch_size = 50\n",
    "\n",
    "best_score = 0.\n",
    "max_checks_without_progress = 20\n",
    "checks_without_progress = 0\n",
    "\n",
    "init = tf.global_variables_initializer()\n",
    "with tf.Session() as sess:\n",
    "    init.run()\n",
    "    saver.restore(sess, './deep_mnist_model.ckpt')\n",
    "    for var in train_vars:\n",
    "        sess.run(var.initializer)\n",
    "    for epoch in range(n_epochs):\n",
    "        rnd_indices = np.random.permutation(len(X_train2))\n",
    "        for rnd_indices in np.array_split(rnd_indices, len(X_train2) // batch_size):\n",
    "            X_batch, y_batch = X_train2[rnd_indices], y_train2[rnd_indices]\n",
    "            sess.run(training_op, feed_dict={X: X_batch, y: y_batch})\n",
    "        accuracy_score = sess.run(accuracy, feed_dict={X: X_valid2, y: y_valid2})\n",
    "        if accuracy_score > best_score:\n",
    "            print 'Epoch %d: Accuracy %.6f' % (epoch, accuracy_score)\n",
    "            best_score = accuracy_score\n",
    "            checks_without_progress = 0\n",
    "            saver.save(sess, './deep_mnist_model2.ckpt')\n",
    "        else:\n",
    "            checks_without_progress += 1\n",
    "            if checks_without_progress > max_checks_without_progress:\n",
    "                print 'Stopping early!'\n",
    "                break\n",
    "    print 'Best validation accuracy: %.6f' % best_score"
   ]
  },
  {
   "cell_type": "code",
   "execution_count": null,
   "metadata": {},
   "outputs": [],
   "source": []
  },
  {
   "cell_type": "code",
   "execution_count": null,
   "metadata": {},
   "outputs": [],
   "source": []
  }
 ],
 "metadata": {
  "kernelspec": {
   "display_name": "Python 2",
   "language": "python",
   "name": "python2"
  },
  "language_info": {
   "codemirror_mode": {
    "name": "ipython",
    "version": 2
   },
   "file_extension": ".py",
   "mimetype": "text/x-python",
   "name": "python",
   "nbconvert_exporter": "python",
   "pygments_lexer": "ipython2",
   "version": "2.7.10"
  }
 },
 "nbformat": 4,
 "nbformat_minor": 2
}
