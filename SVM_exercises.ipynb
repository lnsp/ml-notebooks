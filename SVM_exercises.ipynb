{
 "cells": [
  {
   "cell_type": "code",
   "execution_count": 1,
   "metadata": {},
   "outputs": [],
   "source": [
    "from sklearn.svm import LinearSVC\n",
    "import numpy as np\n",
    "import matplotlib.pyplot as plt"
   ]
  },
  {
   "cell_type": "code",
   "execution_count": 2,
   "metadata": {},
   "outputs": [],
   "source": [
    "X = np.random.rand(128)\n",
    "y = X * 5. + np.random.rand(128)"
   ]
  },
  {
   "cell_type": "code",
   "execution_count": 3,
   "metadata": {},
   "outputs": [
    {
     "data": {
      "text/plain": [
       "<matplotlib.collections.PathCollection at 0x113afbda0>"
      ]
     },
     "execution_count": 3,
     "metadata": {},
     "output_type": "execute_result"
    },
    {
     "data": {
      "image/png": "[encoded data removed]",
      "text/plain": [
       "<matplotlib.figure.Figure at 0x1139f7b70>"
      ]
     },
     "metadata": {},
     "output_type": "display_data"
    }
   ],
   "source": [
    "plt.scatter(X, y)"
   ]
  },
  {
   "cell_type": "code",
   "execution_count": 4,
   "metadata": {},
   "outputs": [],
   "source": [
    "from sklearn.svm import SVC\n",
    "from sklearn.preprocessing import StandardScaler\n",
    "from sklearn.datasets import fetch_mldata"
   ]
  },
  {
   "cell_type": "code",
   "execution_count": 5,
   "metadata": {},
   "outputs": [],
   "source": [
    "mnist = fetch_mldata('MNIST original')"
   ]
  },
  {
   "cell_type": "code",
   "execution_count": 6,
   "metadata": {},
   "outputs": [],
   "source": [
    "X, y = mnist['data'], mnist['target']\n",
    "X_train, X_test, y_train, y_test = X[:60000], X[60000:], y[:60000], y[60000:]"
   ]
  },
  {
   "cell_type": "code",
   "execution_count": 7,
   "metadata": {},
   "outputs": [],
   "source": [
    "scaler = StandardScaler()\n",
    "X_train_scaled = scaler.fit_transform(X_train.astype(np.float32))\n",
    "X_test_scaled = scaler.transform(X_test.astype(np.float32))"
   ]
  },
  {
   "cell_type": "code",
   "execution_count": 8,
   "metadata": {},
   "outputs": [
    {
     "ename": "TypeError",
     "evalue": "__init__() got an unexpected keyword argument 'n_iter'",
     "output_type": "error",
     "traceback": [
      "\u001b[0;31m---------------------------------------------------------------------------\u001b[0m",
      "\u001b[0;31mTypeError\u001b[0m                                 Traceback (most recent call last)",
      "\u001b[0;32m<ipython-input-8-37563b20629d>\u001b[0m in \u001b[0;36m<module>\u001b[0;34m()\u001b[0m\n\u001b[1;32m      4\u001b[0m     \u001b[0;34m{\u001b[0m\u001b[0;34m'C'\u001b[0m\u001b[0;34m:\u001b[0m \u001b[0;34m[\u001b[0m\u001b[0;36m0.5\u001b[0m\u001b[0;34m,\u001b[0m \u001b[0;36m1.0\u001b[0m\u001b[0;34m,\u001b[0m \u001b[0;36m2.0\u001b[0m\u001b[0;34m,\u001b[0m \u001b[0;36m4.0\u001b[0m\u001b[0;34m,\u001b[0m \u001b[0;36m8.0\u001b[0m\u001b[0;34m,\u001b[0m \u001b[0;36m16.0\u001b[0m\u001b[0;34m]\u001b[0m\u001b[0;34m,\u001b[0m \u001b[0;34m'degree'\u001b[0m\u001b[0;34m:\u001b[0m \u001b[0;34m[\u001b[0m\u001b[0;36m3\u001b[0m\u001b[0;34m,\u001b[0m \u001b[0;36m4\u001b[0m\u001b[0;34m,\u001b[0m \u001b[0;36m5\u001b[0m\u001b[0;34m,\u001b[0m \u001b[0;36m6\u001b[0m\u001b[0;34m,\u001b[0m \u001b[0;36m7\u001b[0m\u001b[0;34m]\u001b[0m\u001b[0;34m,\u001b[0m \u001b[0;34m'kernel'\u001b[0m\u001b[0;34m:\u001b[0m \u001b[0;34m[\u001b[0m\u001b[0;34m'rbf'\u001b[0m\u001b[0;34m,\u001b[0m \u001b[0;34m'poly'\u001b[0m\u001b[0;34m]\u001b[0m\u001b[0;34m}\u001b[0m\u001b[0;34m\u001b[0m\u001b[0m\n\u001b[1;32m      5\u001b[0m ]\n\u001b[0;32m----> 6\u001b[0;31m \u001b[0mgrid_search\u001b[0m \u001b[0;34m=\u001b[0m \u001b[0mGridSearchCV\u001b[0m\u001b[0;34m(\u001b[0m\u001b[0msvm_clf\u001b[0m\u001b[0;34m,\u001b[0m \u001b[0mparam_grid\u001b[0m\u001b[0;34m,\u001b[0m \u001b[0mcv\u001b[0m\u001b[0;34m=\u001b[0m\u001b[0;36m3\u001b[0m\u001b[0;34m,\u001b[0m \u001b[0mverbose\u001b[0m\u001b[0;34m=\u001b[0m\u001b[0;36m3\u001b[0m\u001b[0;34m,\u001b[0m \u001b[0mn_iter\u001b[0m\u001b[0;34m=\u001b[0m\u001b[0;36m1\u001b[0m\u001b[0;34m)\u001b[0m\u001b[0;34m\u001b[0m\u001b[0m\n\u001b[0m\u001b[1;32m      7\u001b[0m \u001b[0mgrid_search\u001b[0m\u001b[0;34m.\u001b[0m\u001b[0mfit\u001b[0m\u001b[0;34m(\u001b[0m\u001b[0mX_train_scaled\u001b[0m\u001b[0;34m[\u001b[0m\u001b[0;34m:\u001b[0m\u001b[0;36m10000\u001b[0m\u001b[0;34m]\u001b[0m\u001b[0;34m,\u001b[0m \u001b[0my_train\u001b[0m\u001b[0;34m[\u001b[0m\u001b[0;34m:\u001b[0m\u001b[0;36m10000\u001b[0m\u001b[0;34m]\u001b[0m\u001b[0;34m)\u001b[0m\u001b[0;34m\u001b[0m\u001b[0m\n",
      "\u001b[0;31mTypeError\u001b[0m: __init__() got an unexpected keyword argument 'n_iter'"
     ]
    }
   ],
   "source": [
    "from sklearn.model_selection import GridSearchCV\n",
    "svm_clf = SVC()\n",
    "param_grid = [\n",
    "    {'C': [0.5, 1.0, 2.0, 4.0, 8.0, 16.0], 'degree': [3, 4, 5, 6, 7], 'kernel': ['rbf', 'poly']}\n",
    "]\n",
    "grid_search = GridSearchCV(svm_clf, param_grid, cv=3, verbose=3, n_iter=1)\n",
    "grid_search.fit(X_train_scaled[:10000], y_train[:10000])"
   ]
  },
  {
   "cell_type": "code",
   "execution_count": 9,
   "metadata": {},
   "outputs": [],
   "source": [
    "from sklearn.datasets import fetch_california_housing\n",
    "\n",
    "housing = fetch_california_housing()"
   ]
  },
  {
   "cell_type": "code",
   "execution_count": 10,
   "metadata": {},
   "outputs": [],
   "source": [
    "X, y = housing['data'], housing['target']\n",
    "from sklearn.model_selection import train_test_split\n",
    "X_train, X_test, y_train, y_test = train_test_split(X, y, test_size=0.2, random_state=42)"
   ]
  },
  {
   "cell_type": "code",
   "execution_count": 11,
   "metadata": {},
   "outputs": [],
   "source": [
    "from sklearn.preprocessing import StandardScaler\n",
    "scaler = StandardScaler()\n",
    "X_train_prep = scaler.fit_transform(X_train)\n",
    "X_test_prep = scaler.transform(X_test)"
   ]
  },
  {
   "cell_type": "code",
   "execution_count": 12,
   "metadata": {},
   "outputs": [
    {
     "name": "stdout",
     "output_type": "stream",
     "text": [
      "Fitting 5 folds for each of 10 candidates, totalling 50 fits\n",
      "[CV] C=4.74540118847, gamma=0.0711447600934 ..........................\n",
      "[CV]  C=4.74540118847, gamma=0.0711447600934, score=0.7440177920595072, total=   7.0s\n",
      "[CV] C=4.74540118847, gamma=0.0711447600934 ..........................\n"
     ]
    },
    {
     "name": "stderr",
     "output_type": "stream",
     "text": [
      "[Parallel(n_jobs=1)]: Done   1 out of   1 | elapsed:    9.6s remaining:    0.0s\n"
     ]
    },
    {
     "name": "stdout",
     "output_type": "stream",
     "text": [
      "[CV]  C=4.74540118847, gamma=0.0711447600934, score=0.7412747306505737, total=   7.0s\n",
      "[CV] C=4.74540118847, gamma=0.0711447600934 ..........................\n"
     ]
    },
    {
     "name": "stderr",
     "output_type": "stream",
     "text": [
      "[Parallel(n_jobs=1)]: Done   2 out of   2 | elapsed:   19.5s remaining:    0.0s\n"
     ]
    },
    {
     "name": "stdout",
     "output_type": "stream",
     "text": [
      "[CV]  C=4.74540118847, gamma=0.0711447600934, score=0.731695837752095, total=   7.8s\n",
      "[CV] C=4.74540118847, gamma=0.0711447600934 ..........................\n",
      "[CV]  C=4.74540118847, gamma=0.0711447600934, score=0.7437444057773579, total=   8.5s\n",
      "[CV] C=4.74540118847, gamma=0.0711447600934 ..........................\n",
      "[CV]  C=4.74540118847, gamma=0.0711447600934, score=0.7306145701842015, total=   8.7s\n",
      "[CV] C=8.31993941811, gamma=0.00625137357452 .........................\n",
      "[CV]  C=8.31993941811, gamma=0.00625137357452, score=0.6872543318208699, total=   6.7s\n",
      "[CV] C=8.31993941811, gamma=0.00625137357452 .........................\n",
      "[CV]  C=8.31993941811, gamma=0.00625137357452, score=0.6631035534858292, total=   7.2s\n",
      "[CV] C=8.31993941811, gamma=0.00625137357452 .........................\n",
      "[CV]  C=8.31993941811, gamma=0.00625137357452, score=0.675725045002082, total=   6.9s\n",
      "[CV] C=8.31993941811, gamma=0.00625137357452 .........................\n",
      "[CV]  C=8.31993941811, gamma=0.00625137357452, score=0.687777097642158, total=   6.5s\n",
      "[CV] C=8.31993941811, gamma=0.00625137357452 .........................\n",
      "[CV]  C=8.31993941811, gamma=0.00625137357452, score=0.6753567111339747, total=   7.0s\n",
      "[CV] C=2.56018640442, gamma=0.000293753845763 ........................\n",
      "[CV]  C=2.56018640442, gamma=0.000293753845763, score=0.5872290874467925, total=   6.7s\n",
      "[CV] C=2.56018640442, gamma=0.000293753845763 ........................\n",
      "[CV]  C=2.56018640442, gamma=0.000293753845763, score=0.5853780021266342, total=   6.2s\n",
      "[CV] C=2.56018640442, gamma=0.000293753845763 ........................\n",
      "[CV]  C=2.56018640442, gamma=0.000293753845763, score=0.5792290144948472, total=   6.6s\n",
      "[CV] C=2.56018640442, gamma=0.000293753845763 ........................\n",
      "[CV]  C=2.56018640442, gamma=0.000293753845763, score=0.5824229473772381, total=   6.4s\n",
      "[CV] C=2.56018640442, gamma=0.000293753845763 ........................\n",
      "[CV]  C=2.56018640442, gamma=0.000293753845763, score=0.570527575526277, total=   6.3s\n",
      "[CV] C=1.58083612168, gamma=0.0396760507705 ..........................\n",
      "[CV]  C=1.58083612168, gamma=0.0396760507705, score=0.716471462858338, total=   6.1s\n",
      "[CV] C=1.58083612168, gamma=0.0396760507705 ..........................\n",
      "[CV]  C=1.58083612168, gamma=0.0396760507705, score=0.7044520409430466, total=   6.2s\n",
      "[CV] C=1.58083612168, gamma=0.0396760507705 ..........................\n",
      "[CV]  C=1.58083612168, gamma=0.0396760507705, score=0.7077389299723962, total=   6.5s\n",
      "[CV] C=1.58083612168, gamma=0.0396760507705 ..........................\n",
      "[CV]  C=1.58083612168, gamma=0.0396760507705, score=0.7176116302285417, total=   6.2s\n",
      "[CV] C=1.58083612168, gamma=0.0396760507705 ..........................\n",
      "[CV]  C=1.58083612168, gamma=0.0396760507705, score=0.7015914433660583, total=   6.2s\n",
      "[CV] C=7.01115011743, gamma=0.0133112160807 ..........................\n",
      "[CV]  C=7.01115011743, gamma=0.0133112160807, score=0.7041721785887001, total=   6.8s\n",
      "[CV] C=7.01115011743, gamma=0.0133112160807 ..........................\n",
      "[CV]  C=7.01115011743, gamma=0.0133112160807, score=0.6820486357695206, total=   7.0s\n",
      "[CV] C=7.01115011743, gamma=0.0133112160807 ..........................\n",
      "[CV]  C=7.01115011743, gamma=0.0133112160807, score=0.6888523049198179, total=   7.5s\n",
      "[CV] C=7.01115011743, gamma=0.0133112160807 ..........................\n",
      "[CV]  C=7.01115011743, gamma=0.0133112160807, score=0.7042065429555201, total=   9.0s\n",
      "[CV] C=7.01115011743, gamma=0.0133112160807 ..........................\n",
      "[CV]  C=7.01115011743, gamma=0.0133112160807, score=0.6900035886960203, total=   6.3s\n",
      "[CV] C=1.20584494296, gamma=0.0812324508559 ..........................\n",
      "[CV]  C=1.20584494296, gamma=0.0812324508559, score=0.7326304637093866, total=   5.7s\n",
      "[CV] C=1.20584494296, gamma=0.0812324508559 ..........................\n",
      "[CV]  C=1.20584494296, gamma=0.0812324508559, score=0.7267166055884724, total=   5.7s\n",
      "[CV] C=1.20584494296, gamma=0.0812324508559 ..........................\n",
      "[CV]  C=1.20584494296, gamma=0.0812324508559, score=0.723416762590813, total=   5.7s\n",
      "[CV] C=1.20584494296, gamma=0.0812324508559 ..........................\n",
      "[CV]  C=1.20584494296, gamma=0.0812324508559, score=0.7327953217597065, total=   5.8s\n",
      "[CV] C=1.20584494296, gamma=0.0812324508559 ..........................\n",
      "[CV]  C=1.20584494296, gamma=0.0812324508559, score=0.718202990501114, total=   5.8s\n",
      "[CV] C=9.324426408, gamma=0.000433528179495 ..........................\n",
      "[CV]  C=9.324426408, gamma=0.000433528179495, score=0.6203973663580494, total=   5.9s\n",
      "[CV] C=9.324426408, gamma=0.000433528179495 ..........................\n",
      "[CV]  C=9.324426408, gamma=0.000433528179495, score=0.5853428589808267, total=   5.8s\n",
      "[CV] C=9.324426408, gamma=0.000433528179495 ..........................\n",
      "[CV]  C=9.324426408, gamma=0.000433528179495, score=0.6039165965812889, total=   5.6s\n",
      "[CV] C=9.324426408, gamma=0.000433528179495 ..........................\n",
      "[CV]  C=9.324426408, gamma=0.000433528179495, score=0.609269488457616, total=   5.7s\n",
      "[CV] C=9.324426408, gamma=0.000433528179495 ..........................\n",
      "[CV]  C=9.324426408, gamma=0.000433528179495, score=0.5745304945926156, total=   5.7s\n",
      "[CV] C=2.81824967207, gamma=0.00035498788322 .........................\n",
      "[CV]  C=2.81824967207, gamma=0.00035498788322, score=0.5950851657277262, total=   5.7s\n",
      "[CV] C=2.81824967207, gamma=0.00035498788322 .........................\n",
      "[CV]  C=2.81824967207, gamma=0.00035498788322, score=0.5907523904356204, total=   6.3s\n",
      "[CV] C=2.81824967207, gamma=0.00035498788322 .........................\n",
      "[CV]  C=2.81824967207, gamma=0.00035498788322, score=0.5864359786486872, total=   6.3s\n",
      "[CV] C=2.81824967207, gamma=0.00035498788322 .........................\n",
      "[CV]  C=2.81824967207, gamma=0.00035498788322, score=0.5897469875643204, total=   6.3s\n",
      "[CV] C=2.81824967207, gamma=0.00035498788322 .........................\n",
      "[CV]  C=2.81824967207, gamma=0.00035498788322, score=0.5746520730492358, total=   6.1s\n",
      "[CV] C=4.0424224296, gamma=0.00375205585512 ..........................\n",
      "[CV]  C=4.0424224296, gamma=0.00375205585512, score=0.6573900085615956, total=   6.0s\n",
      "[CV] C=4.0424224296, gamma=0.00375205585512 ..........................\n",
      "[CV]  C=4.0424224296, gamma=0.00375205585512, score=0.6305484819201286, total=   6.9s\n",
      "[CV] C=4.0424224296, gamma=0.00375205585512 ..........................\n",
      "[CV]  C=4.0424224296, gamma=0.00375205585512, score=0.6539415773437254, total=   6.3s\n",
      "[CV] C=4.0424224296, gamma=0.00375205585512 ..........................\n",
      "[CV]  C=4.0424224296, gamma=0.00375205585512, score=0.6563719591396269, total=   8.3s\n",
      "[CV] C=4.0424224296, gamma=0.00375205585512 ..........................\n",
      "[CV]  C=4.0424224296, gamma=0.00375205585512, score=0.6469782302124261, total=   7.2s\n",
      "[CV] C=5.31945018642, gamma=0.000747631206225 ........................\n",
      "[CV]  C=5.31945018642, gamma=0.000747631206225, score=0.62413066489561, total=   6.0s\n",
      "[CV] C=5.31945018642, gamma=0.000747631206225 ........................\n",
      "[CV]  C=5.31945018642, gamma=0.000747631206225, score=0.5834684914391646, total=   6.6s\n",
      "[CV] C=5.31945018642, gamma=0.000747631206225 ........................\n",
      "[CV]  C=5.31945018642, gamma=0.000747631206225, score=0.6182753897742066, total=   6.3s\n",
      "[CV] C=5.31945018642, gamma=0.000747631206225 ........................\n",
      "[CV]  C=5.31945018642, gamma=0.000747631206225, score=0.6243299586013774, total=   5.8s\n",
      "[CV] C=5.31945018642, gamma=0.000747631206225 ........................\n",
      "[CV]  C=5.31945018642, gamma=0.000747631206225, score=0.6029287898140676, total=   6.1s\n"
     ]
    },
    {
     "name": "stderr",
     "output_type": "stream",
     "text": [
      "[Parallel(n_jobs=1)]: Done  50 out of  50 | elapsed:  7.9min finished\n"
     ]
    },
    {
     "data": {
      "text/plain": [
       "RandomizedSearchCV(cv=5, error_score='raise',\n",
       "          estimator=SVR(C=1.0, cache_size=200, coef0=0.0, degree=3, epsilon=0.1, gamma='auto',\n",
       "  kernel='rbf', max_iter=-1, shrinking=True, tol=0.001, verbose=False),\n",
       "          fit_params=None, iid=True, n_iter=10, n_jobs=1,\n",
       "          param_distributions={'gamma': <scipy.stats._distn_infrastructure.rv_frozen object at 0x11cf318d0>, 'C': <scipy.stats._distn_infrastructure.rv_frozen object at 0x11cf31e48>},\n",
       "          pre_dispatch='2*n_jobs', random_state=42, refit=True,\n",
       "          return_train_score='warn', scoring=None, verbose=3)"
      ]
     },
     "execution_count": 12,
     "metadata": {},
     "output_type": "execute_result"
    }
   ],
   "source": [
    "from sklearn.svm import SVR\n",
    "from sklearn.model_selection import RandomizedSearchCV\n",
    "from scipy.stats import reciprocal, uniform\n",
    "best_params = RandomizedSearchCV(SVR(), {'gamma': reciprocal(0.0001, 0.1), 'C': uniform(1, 10)}, n_iter=10, cv=5, verbose=3, random_state=42)\n",
    "best_params.fit(X_train_prep, y_train)"
   ]
  },
  {
   "cell_type": "code",
   "execution_count": 13,
   "metadata": {},
   "outputs": [
    {
     "data": {
      "text/plain": [
       "0.59752582183276493"
      ]
     },
     "execution_count": 13,
     "metadata": {},
     "output_type": "execute_result"
    }
   ],
   "source": [
    "y_test_results = best_params.predict(X_test_prep)\n",
    "from sklearn.metrics import mean_squared_error\n",
    "mse = mean_squared_error(y_test, y_test_results)\n",
    "np.sqrt(mse)"
   ]
  },
  {
   "cell_type": "code",
   "execution_count": null,
   "metadata": {},
   "outputs": [],
   "source": []
  }
 ],
 "metadata": {
  "kernelspec": {
   "display_name": "Python 2",
   "language": "python",
   "name": "python2"
  },
  "language_info": {
   "codemirror_mode": {
    "name": "ipython",
    "version": 3
   },
   "file_extension": ".py",
   "mimetype": "text/x-python",
   "name": "python",
   "nbconvert_exporter": "python",
   "pygments_lexer": "ipython3",
   "version": "3.6.4"
  }
 },
 "nbformat": 4,
 "nbformat_minor": 2
}
