{
 "cells": [
  {
   "cell_type": "code",
   "execution_count": 1,
   "metadata": {},
   "outputs": [],
   "source": [
    "import tensorflow as tf"
   ]
  },
  {
   "cell_type": "code",
   "execution_count": 2,
   "metadata": {},
   "outputs": [],
   "source": [
    "x = tf.Variable(3, name='x')\n",
    "y = tf.Variable(4, name='y')\n",
    "f = x * x * y + y + 2"
   ]
  },
  {
   "cell_type": "code",
   "execution_count": 7,
   "metadata": {},
   "outputs": [
    {
     "name": "stdout",
     "output_type": "stream",
     "text": [
      "42\n"
     ]
    }
   ],
   "source": [
    "init = tf.global_variables_initializer()\n",
    "\n",
    "with tf.Session() as sess:\n",
    "    sess.run(init)\n",
    "    result = sess.run(f)\n",
    "    print(result)"
   ]
  },
  {
   "cell_type": "code",
   "execution_count": 9,
   "metadata": {},
   "outputs": [
    {
     "name": "stdout",
     "output_type": "stream",
     "text": [
      "[[-3.7185181e+01]\n",
      " [ 4.3633747e-01]\n",
      " [ 9.3952334e-03]\n",
      " [-1.0711310e-01]\n",
      " [ 6.4479220e-01]\n",
      " [-4.0338000e-06]\n",
      " [-3.7813708e-03]\n",
      " [-4.2348403e-01]\n",
      " [-4.3721911e-01]]\n"
     ]
    }
   ],
   "source": [
    "import numpy as np\n",
    "from sklearn.datasets import fetch_california_housing\n",
    "\n",
    "housing = fetch_california_housing()\n",
    "m, n = housing.data.shape\n",
    "housing_data_plus_bias = np.c_[np.ones((m, 1)), housing.data]\n",
    "\n",
    "X = tf.constant(housing_data_plus_bias, dtype=tf.float32, name='X')\n",
    "y = tf.constant(housing.target.reshape(-1, 1), dtype=tf.float32, name='y')\n",
    "XT = tf.transpose(X)\n",
    "theta = tf.matmul(tf.matmul(tf.matrix_inverse(tf.matmul(XT, X)), XT), y)\n",
    "\n",
    "with tf.Session() as sess:\n",
    "    theta_value = theta.eval()\n",
    "    print(theta_value)"
   ]
  },
  {
   "cell_type": "code",
   "execution_count": 31,
   "metadata": {},
   "outputs": [],
   "source": [
    "from sklearn.preprocessing import StandardScaler\n",
    "scaler = StandardScaler()\n",
    "scaled_housing_data = scaler.fit_transform(housing.data)\n",
    "scaled_housing_data_plus_bias = np.c_[np.ones((m, 1)), scaled_housing_data]"
   ]
  },
  {
   "cell_type": "code",
   "execution_count": 32,
   "metadata": {},
   "outputs": [
    {
     "name": "stdout",
     "output_type": "stream",
     "text": [
      "[ 1.00000000e+00  6.60969987e-17  5.50808322e-18  6.60969987e-17\n",
      " -1.06030602e-16 -1.10161664e-17  3.44255201e-18 -1.07958431e-15\n",
      " -8.52651283e-15]\n",
      "[ 0.38915536  0.36424355  0.5116157  ... -0.06612179 -0.06360587\n",
      "  0.01359031]\n",
      "0.11111111111111005\n",
      "(20640, 9)\n"
     ]
    }
   ],
   "source": [
    "print(scaled_housing_data_plus_bias.mean(axis=0))\n",
    "print(scaled_housing_data_plus_bias.mean(axis=1))\n",
    "print(scaled_housing_data_plus_bias.mean())\n",
    "print(scaled_housing_data_plus_bias.shape)"
   ]
  },
  {
   "cell_type": "code",
   "execution_count": 52,
   "metadata": {},
   "outputs": [
    {
     "name": "stdout",
     "output_type": "stream",
     "text": [
      "Epoch 0 MSE = 2.7544262\n",
      "Epoch 100 MSE = 0.632222\n",
      "Epoch 200 MSE = 0.5727805\n",
      "Epoch 300 MSE = 0.5585007\n",
      "Epoch 400 MSE = 0.54907\n",
      "Epoch 500 MSE = 0.54228795\n",
      "Epoch 600 MSE = 0.5373789\n",
      "Epoch 700 MSE = 0.533822\n",
      "Epoch 800 MSE = 0.5312425\n",
      "Epoch 900 MSE = 0.5293704\n",
      "Epoch 1000 MSE = 0.52801067\n",
      "Epoch 1100 MSE = 0.52702194\n",
      "Epoch 1200 MSE = 0.526302\n",
      "Epoch 1300 MSE = 0.5257775\n",
      "Epoch 1400 MSE = 0.52539474\n",
      "Epoch 1500 MSE = 0.5251142\n",
      "Epoch 1600 MSE = 0.5249093\n",
      "Epoch 1700 MSE = 0.52475834\n",
      "Epoch 1800 MSE = 0.5246476\n",
      "Epoch 1900 MSE = 0.5245655\n",
      "Epoch 2000 MSE = 0.52450496\n",
      "Epoch 2100 MSE = 0.5244601\n",
      "Epoch 2200 MSE = 0.5244265\n",
      "Epoch 2300 MSE = 0.52440166\n",
      "Epoch 2400 MSE = 0.5243829\n",
      "Epoch 2500 MSE = 0.52436846\n",
      "Epoch 2600 MSE = 0.52435786\n",
      "Epoch 2700 MSE = 0.5243495\n",
      "Epoch 2800 MSE = 0.5243434\n",
      "Epoch 2900 MSE = 0.52433866\n",
      "Epoch 3000 MSE = 0.524335\n",
      "Epoch 3100 MSE = 0.5243321\n",
      "Epoch 3200 MSE = 0.52433\n",
      "Epoch 3300 MSE = 0.5243281\n",
      "Epoch 3400 MSE = 0.5243267\n",
      "Epoch 3500 MSE = 0.52432585\n",
      "Epoch 3600 MSE = 0.52432483\n",
      "Epoch 3700 MSE = 0.52432406\n",
      "Epoch 3800 MSE = 0.5243235\n",
      "Epoch 3900 MSE = 0.5243227\n",
      "Epoch 4000 MSE = 0.5243227\n",
      "Epoch 4100 MSE = 0.52432215\n",
      "Epoch 4200 MSE = 0.524322\n",
      "Epoch 4300 MSE = 0.52432215\n",
      "Epoch 4400 MSE = 0.52432156\n",
      "Epoch 4500 MSE = 0.5243215\n",
      "Epoch 4600 MSE = 0.5243216\n",
      "Epoch 4700 MSE = 0.5243215\n",
      "Epoch 4800 MSE = 0.5243214\n",
      "Epoch 4900 MSE = 0.52432114\n",
      "Epoch 5000 MSE = 0.52432114\n",
      "Epoch 5100 MSE = 0.52432084\n",
      "Epoch 5200 MSE = 0.52432084\n",
      "Epoch 5300 MSE = 0.52432096\n",
      "Epoch 5400 MSE = 0.52432084\n",
      "Epoch 5500 MSE = 0.52432084\n",
      "Epoch 5600 MSE = 0.5243208\n",
      "Epoch 5700 MSE = 0.52432096\n",
      "Epoch 5800 MSE = 0.52432114\n",
      "Epoch 5900 MSE = 0.52432114\n",
      "Epoch 6000 MSE = 0.52432114\n",
      "Epoch 6100 MSE = 0.524321\n",
      "Epoch 6200 MSE = 0.52432096\n",
      "Epoch 6300 MSE = 0.5243211\n",
      "Epoch 6400 MSE = 0.52432084\n",
      "Epoch 6500 MSE = 0.52432096\n",
      "Epoch 6600 MSE = 0.524321\n",
      "Epoch 6700 MSE = 0.52432084\n",
      "Epoch 6800 MSE = 0.52432096\n",
      "Epoch 6900 MSE = 0.52432084\n",
      "Epoch 7000 MSE = 0.5243209\n",
      "Epoch 7100 MSE = 0.52432084\n",
      "Epoch 7200 MSE = 0.52432084\n",
      "Epoch 7300 MSE = 0.5243208\n",
      "Epoch 7400 MSE = 0.5243209\n",
      "Epoch 7500 MSE = 0.52432096\n",
      "Epoch 7600 MSE = 0.52432096\n",
      "Epoch 7700 MSE = 0.5243212\n",
      "Epoch 7800 MSE = 0.52432126\n",
      "Epoch 7900 MSE = 0.5243212\n",
      "Epoch 8000 MSE = 0.52432114\n",
      "Epoch 8100 MSE = 0.52432114\n",
      "Epoch 8200 MSE = 0.5243212\n",
      "Epoch 8300 MSE = 0.52432126\n",
      "Epoch 8400 MSE = 0.52432126\n",
      "Epoch 8500 MSE = 0.5243213\n",
      "Epoch 8600 MSE = 0.52432126\n",
      "Epoch 8700 MSE = 0.52432126\n",
      "Epoch 8800 MSE = 0.52432126\n",
      "Epoch 8900 MSE = 0.5243212\n",
      "Epoch 9000 MSE = 0.524321\n",
      "Epoch 9100 MSE = 0.524321\n",
      "Epoch 9200 MSE = 0.524321\n",
      "Epoch 9300 MSE = 0.524321\n",
      "Epoch 9400 MSE = 0.524321\n",
      "Epoch 9500 MSE = 0.524321\n",
      "Epoch 9600 MSE = 0.524321\n",
      "Epoch 9700 MSE = 0.524321\n",
      "Epoch 9800 MSE = 0.524321\n",
      "Epoch 9900 MSE = 0.524321\n",
      "Epoch 10000 MSE = 0.524321\n"
     ]
    }
   ],
   "source": [
    "tf.reset_default_graph()\n",
    "n_epochs = 10000\n",
    "learning_rate = 0.01\n",
    "\n",
    "X = tf.constant(scaled_housing_data_plus_bias, dtype=tf.float32, name=\"X\")\n",
    "y = tf.constant(housing.target.reshape(-1, 1), dtype=tf.float32, name=\"y\")\n",
    "theta = tf.Variable(tf.random_uniform([n + 1, 1], -1.0, 1.0, seed=42), name=\"theta\")\n",
    "y_pred = tf.matmul(X, theta, name=\"predictions\")\n",
    "error = y_pred - y\n",
    "mse = tf.reduce_mean(tf.square(error), name=\"mse\")\n",
    "optimizer = tf.train.GradientDescentOptimizer(learning_rate=learning_rate)\n",
    "training_op = optimizer.minimize(mse)\n",
    "\n",
    "mse_summary = tf.summary.scalar('MSE', mse)\n",
    "file_writer = tf.summary.FileWriter('tf_logs/up-and-running')\n",
    "\n",
    "init = tf.global_variables_initializer()\n",
    "\n",
    "with tf.Session() as sess:\n",
    "    sess.run(init)\n",
    "\n",
    "    for epoch in range(n_epochs+1):\n",
    "        if epoch % 100 == 0:\n",
    "            print \"Epoch\", epoch, \"MSE =\", mse.eval()\n",
    "            file_writer.add_summary(mse_summary.eval(), epoch / 100)\n",
    "        sess.run(training_op)\n",
    "    \n",
    "    best_theta = theta.eval()\n",
    "file_writer.close()"
   ]
  }
 ],
 "metadata": {
  "kernelspec": {
   "display_name": "Python 2",
   "language": "python",
   "name": "python2"
  },
  "language_info": {
   "codemirror_mode": {
    "name": "ipython",
    "version": 2
   },
   "file_extension": ".py",
   "mimetype": "text/x-python",
   "name": "python",
   "nbconvert_exporter": "python",
   "pygments_lexer": "ipython2",
   "version": "2.7.10"
  }
 },
 "nbformat": 4,
 "nbformat_minor": 2
}
